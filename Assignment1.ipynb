{
  "nbformat": 4,
  "nbformat_minor": 0,
  "metadata": {
    "colab": {
      "name": "Assignment1.ipynb",
      "provenance": [],
      "authorship_tag": "ABX9TyMTSV+LGgS7sA2S8PAiWe6H",
      "include_colab_link": true
    },
    "kernelspec": {
      "name": "python3",
      "display_name": "Python 3"
    }
  },
  "cells": [
    {
      "cell_type": "markdown",
      "metadata": {
        "id": "view-in-github",
        "colab_type": "text"
      },
      "source": [
        "<a href=\"https://colab.research.google.com/github/Athulraj72/Class-Assignment-1---Getting-Started-with-Python-Programming/blob/master/Assignment1.ipynb\" target=\"_parent\"><img src=\"https://colab.research.google.com/assets/colab-badge.svg\" alt=\"Open In Colab\"/></a>"
      ]
    },
    {
      "cell_type": "code",
      "metadata": {
        "id": "w9tznsI7i3M5",
        "colab_type": "code",
        "colab": {}
      },
      "source": [
        ""
      ],
      "execution_count": null,
      "outputs": []
    },
    {
      "cell_type": "markdown",
      "metadata": {
        "id": "rqvdSIhQjtWD",
        "colab_type": "text"
      },
      "source": [
        "Question2"
      ]
    },
    {
      "cell_type": "code",
      "metadata": {
        "id": "dkuInZ9dkQJ8",
        "colab_type": "code",
        "colab": {
          "base_uri": "https://localhost:8080/",
          "height": 68
        },
        "outputId": "9ae947d4-58c3-4d68-98ff-bc63cd3904ca"
      },
      "source": [
        " \n",
        "Name =\"Athul Raj\"\n",
        "Address =\"kottiyoor, kannur\"\n",
        "Telephone_no =\"1112223334\"\n",
        "print(\" Name:\"+Name+\"\\n\",\"Address:\"+Address+\"\\n\",\"Telephone no:\"+Telephone_no)"
      ],
      "execution_count": 1,
      "outputs": [
        {
          "output_type": "stream",
          "text": [
            " Name:Athul Raj\n",
            " Address:kottiyoor, kannur\n",
            " Telephone no:1112223334\n"
          ],
          "name": "stdout"
        }
      ]
    },
    {
      "cell_type": "markdown",
      "metadata": {
        "id": "WMHqyGNokoWW",
        "colab_type": "text"
      },
      "source": [
        "Question 3"
      ]
    },
    {
      "cell_type": "code",
      "metadata": {
        "id": "xBbr7XVskrJz",
        "colab_type": "code",
        "colab": {
          "base_uri": "https://localhost:8080/",
          "height": 34
        },
        "outputId": "cf874c7e-d652-4529-e242-2f54c8438301"
      },
      "source": [
        " print(\"Your name is\",Name)"
      ],
      "execution_count": 2,
      "outputs": [
        {
          "output_type": "stream",
          "text": [
            "Your name is Athul Raj\n"
          ],
          "name": "stdout"
        }
      ]
    },
    {
      "cell_type": "markdown",
      "metadata": {
        "id": "d30Or82Clqfw",
        "colab_type": "text"
      },
      "source": [
        "Question 4"
      ]
    },
    {
      "cell_type": "code",
      "metadata": {
        "id": "n26idxu3mZ-z",
        "colab_type": "code",
        "colab": {
          "base_uri": "https://localhost:8080/",
          "height": 68
        },
        "outputId": "a7a12211-f560-46fb-d115-032b23afcc5b"
      },
      "source": [
        " \n",
        "#area of a rectangle \n",
        "Width = float(input(\"Enter the width: \")) \n",
        "Height = float(input(\"Enter the height: \")) \n",
        "area =Width * Height\n",
        "print(\"The area is\",area, \"Square units\")"
      ],
      "execution_count": 5,
      "outputs": [
        {
          "output_type": "stream",
          "text": [
            "Enter the width: 6\n",
            "Enter the height: 5\n",
            "The area is 30.0 Square units\n"
          ],
          "name": "stdout"
        }
      ]
    },
    {
      "cell_type": "markdown",
      "metadata": {
        "id": "ns_TLJmRmnpg",
        "colab_type": "text"
      },
      "source": [
        "Question5"
      ]
    },
    {
      "cell_type": "code",
      "metadata": {
        "id": "hYIvGS0dmqP2",
        "colab_type": "code",
        "colab": {
          "base_uri": "https://localhost:8080/",
          "height": 68
        },
        "outputId": "5ac576bf-5843-4573-d591-128b7b6729c4"
      },
      "source": [
        " \n",
        "#area of a triangle \n",
        "Base= float(input(\"Enter the base: \"))\n",
        "Height= float(input(\"Enter the height: \")) \n",
        "area = .5*Base*Height\n",
        "print(\"The area is\",area, \"square units\")"
      ],
      "execution_count": 6,
      "outputs": [
        {
          "output_type": "stream",
          "text": [
            "Enter the base: 3\n",
            "Enter the height: 5\n",
            "The area is 7.5 square units\n"
          ],
          "name": "stdout"
        }
      ]
    },
    {
      "cell_type": "markdown",
      "metadata": {
        "id": "MtqU7EirmxHT",
        "colab_type": "text"
      },
      "source": [
        "Queation6"
      ]
    },
    {
      "cell_type": "code",
      "metadata": {
        "id": "uHVDfHuAmzac",
        "colab_type": "code",
        "colab": {
          "base_uri": "https://localhost:8080/",
          "height": 51
        },
        "outputId": "9dcf4856-f652-419c-9898-d322ce8a9bc7"
      },
      "source": [
        " \n",
        "#area of a circle\n",
        "radius = float(input(\"Enter the radius: \")) \n",
        "area = 3.14*radius**2\n",
        "print(\"The area is\", area, \"square units\")"
      ],
      "execution_count": 7,
      "outputs": [
        {
          "output_type": "stream",
          "text": [
            "Enter the radius: 4\n",
            "The area is 50.24 square units\n"
          ],
          "name": "stdout"
        }
      ]
    },
    {
      "cell_type": "markdown",
      "metadata": {
        "id": "f-TucskTm9uT",
        "colab_type": "text"
      },
      "source": [
        "Question 7"
      ]
    },
    {
      "cell_type": "code",
      "metadata": {
        "id": "eQmRaey-m_xY",
        "colab_type": "code",
        "colab": {
          "base_uri": "https://localhost:8080/",
          "height": 68
        },
        "outputId": "8b80f5bf-1fe0-4095-b66f-4a79245964df"
      },
      "source": [
        " \n",
        "Name = input(\"Enter your name: \") \n",
        "Age =input(\"Enter your age: \") \n",
        "print(\"My name is \"+Name+\" and my age is \"+Age)"
      ],
      "execution_count": 8,
      "outputs": [
        {
          "output_type": "stream",
          "text": [
            "Enter your name: Athul raj\n",
            "Enter your age: 20\n",
            "My name is Athul raj and my age is 20\n"
          ],
          "name": "stdout"
        }
      ]
    },
    {
      "cell_type": "markdown",
      "metadata": {
        "id": "IE2tLa2cnhD7",
        "colab_type": "text"
      },
      "source": [
        "Question 8"
      ]
    },
    {
      "cell_type": "code",
      "metadata": {
        "id": "C9M4va3rnjrq",
        "colab_type": "code",
        "colab": {
          "base_uri": "https://localhost:8080/",
          "height": 51
        },
        "outputId": "db6e778e-de08-4a7d-838c-a00098cfdd17"
      },
      "source": [
        " \n",
        "a= float(input(\"Enter a number: \")) \n",
        "a=a+1\n",
        "print(a)"
      ],
      "execution_count": 9,
      "outputs": [
        {
          "output_type": "stream",
          "text": [
            "Enter a number: 6\n",
            "7.0\n"
          ],
          "name": "stdout"
        }
      ]
    },
    {
      "cell_type": "markdown",
      "metadata": {
        "id": "g_v-P-Tpn3XB",
        "colab_type": "text"
      },
      "source": [
        "Question 9"
      ]
    },
    {
      "cell_type": "code",
      "metadata": {
        "id": "zfUjxBJCn5YY",
        "colab_type": "code",
        "colab": {
          "base_uri": "https://localhost:8080/",
          "height": 52
        },
        "outputId": "bc40316d-0b73-4e30-9423-b52b1d208ad6"
      },
      "source": [
        " input(\"Enter your first name: \")"
      ],
      "execution_count": 10,
      "outputs": [
        {
          "output_type": "stream",
          "text": [
            "Enter your first name: Athul\n"
          ],
          "name": "stdout"
        },
        {
          "output_type": "execute_result",
          "data": {
            "application/vnd.google.colaboratory.intrinsic+json": {
              "type": "string"
            },
            "text/plain": [
              "'Athul'"
            ]
          },
          "metadata": {
            "tags": []
          },
          "execution_count": 10
        }
      ]
    }
  ]
}